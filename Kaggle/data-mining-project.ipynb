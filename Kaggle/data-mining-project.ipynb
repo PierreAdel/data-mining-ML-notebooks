{
 "cells": [
  {
   "cell_type": "code",
   "execution_count": 1,
   "id": "atlantic-capitol",
   "metadata": {
    "_cell_guid": "b1076dfc-b9ad-4769-8c92-a6c4dae69d19",
    "_uuid": "8f2839f25d086af736a60e9eeb907d3b93b6e0e5",
    "execution": {
     "iopub.execute_input": "2021-06-12T22:35:42.168724Z",
     "iopub.status.busy": "2021-06-12T22:35:42.165084Z",
     "iopub.status.idle": "2021-06-12T22:35:42.176509Z",
     "shell.execute_reply": "2021-06-12T22:35:42.177080Z",
     "shell.execute_reply.started": "2021-06-12T22:32:13.956821Z"
    },
    "papermill": {
     "duration": 0.054968,
     "end_time": "2021-06-12T22:35:42.177447",
     "exception": false,
     "start_time": "2021-06-12T22:35:42.122479",
     "status": "completed"
    },
    "tags": []
   },
   "outputs": [
    {
     "name": "stdout",
     "output_type": "stream",
     "text": [
      "/kaggle/input/titanic/train.csv\n",
      "/kaggle/input/titanic/test.csv\n",
      "/kaggle/input/titanic/gender_submission.csv\n"
     ]
    }
   ],
   "source": [
    "# This Python 3 environment comes with many helpful analytics libraries installed\n",
    "# It is defined by the kaggle/python Docker image: https://github.com/kaggle/docker-python\n",
    "# For example, here's several helpful packages to load\n",
    "\n",
    "import numpy as np # linear algebra\n",
    "import pandas as pd # data processing, CSV file I/O (e.g. pd.read_csv)\n",
    "\n",
    "# Input data files are available in the read-only \"../input/\" directory\n",
    "# For example, running this (by clicking run or pressing Shift+Enter) will list all files under the input directory\n",
    "\n",
    "import os\n",
    "for dirname, _, filenames in os.walk('/kaggle/input'):\n",
    "    for filename in filenames:\n",
    "        print(os.path.join(dirname, filename))\n",
    "\n",
    "# You can write up to 20GB to the current directory (/kaggle/working/) that gets preserved as output when you create a version using \"Save & Run All\" \n",
    "# You can also write temporary files to /kaggle/temp/, but they won't be saved outside of the current session"
   ]
  },
  {
   "cell_type": "markdown",
   "id": "violent-toronto",
   "metadata": {
    "papermill": {
     "duration": 0.031826,
     "end_time": "2021-06-12T22:35:42.242516",
     "exception": false,
     "start_time": "2021-06-12T22:35:42.210690",
     "status": "completed"
    },
    "tags": []
   },
   "source": [
    "# Loading training and testing data\n"
   ]
  },
  {
   "cell_type": "code",
   "execution_count": 2,
   "id": "divine-median",
   "metadata": {
    "execution": {
     "iopub.execute_input": "2021-06-12T22:35:42.313804Z",
     "iopub.status.busy": "2021-06-12T22:35:42.312969Z",
     "iopub.status.idle": "2021-06-12T22:35:42.348033Z",
     "shell.execute_reply": "2021-06-12T22:35:42.347357Z",
     "shell.execute_reply.started": "2021-06-12T22:32:13.969499Z"
    },
    "papermill": {
     "duration": 0.073577,
     "end_time": "2021-06-12T22:35:42.348189",
     "exception": false,
     "start_time": "2021-06-12T22:35:42.274612",
     "status": "completed"
    },
    "tags": []
   },
   "outputs": [],
   "source": [
    "titanic_train_file_path = \"/kaggle/input/titanic/train.csv\"\n",
    "titanic_data = pd.read_csv(titanic_train_file_path)\n",
    "titanic_test_file_path = \"/kaggle/input/titanic/test.csv\"\n",
    "test_data = pd.read_csv(titanic_test_file_path)"
   ]
  },
  {
   "cell_type": "code",
   "execution_count": 3,
   "id": "rough-asthma",
   "metadata": {
    "execution": {
     "iopub.execute_input": "2021-06-12T22:35:42.434817Z",
     "iopub.status.busy": "2021-06-12T22:35:42.434047Z",
     "iopub.status.idle": "2021-06-12T22:35:42.464798Z",
     "shell.execute_reply": "2021-06-12T22:35:42.464113Z",
     "shell.execute_reply.started": "2021-06-12T22:32:14.002293Z"
    },
    "papermill": {
     "duration": 0.083754,
     "end_time": "2021-06-12T22:35:42.464953",
     "exception": false,
     "start_time": "2021-06-12T22:35:42.381199",
     "status": "completed"
    },
    "tags": []
   },
   "outputs": [
    {
     "data": {
      "text/html": [
       "<div>\n",
       "<style scoped>\n",
       "    .dataframe tbody tr th:only-of-type {\n",
       "        vertical-align: middle;\n",
       "    }\n",
       "\n",
       "    .dataframe tbody tr th {\n",
       "        vertical-align: top;\n",
       "    }\n",
       "\n",
       "    .dataframe thead th {\n",
       "        text-align: right;\n",
       "    }\n",
       "</style>\n",
       "<table border=\"1\" class=\"dataframe\">\n",
       "  <thead>\n",
       "    <tr style=\"text-align: right;\">\n",
       "      <th></th>\n",
       "      <th>PassengerId</th>\n",
       "      <th>Survived</th>\n",
       "      <th>Pclass</th>\n",
       "      <th>Name</th>\n",
       "      <th>Sex</th>\n",
       "      <th>Age</th>\n",
       "      <th>SibSp</th>\n",
       "      <th>Parch</th>\n",
       "      <th>Ticket</th>\n",
       "      <th>Fare</th>\n",
       "      <th>Cabin</th>\n",
       "      <th>Embarked</th>\n",
       "    </tr>\n",
       "  </thead>\n",
       "  <tbody>\n",
       "    <tr>\n",
       "      <th>0</th>\n",
       "      <td>1</td>\n",
       "      <td>0</td>\n",
       "      <td>3</td>\n",
       "      <td>Braund, Mr. Owen Harris</td>\n",
       "      <td>male</td>\n",
       "      <td>22.0</td>\n",
       "      <td>1</td>\n",
       "      <td>0</td>\n",
       "      <td>A/5 21171</td>\n",
       "      <td>7.2500</td>\n",
       "      <td>NaN</td>\n",
       "      <td>S</td>\n",
       "    </tr>\n",
       "    <tr>\n",
       "      <th>1</th>\n",
       "      <td>2</td>\n",
       "      <td>1</td>\n",
       "      <td>1</td>\n",
       "      <td>Cumings, Mrs. John Bradley (Florence Briggs Th...</td>\n",
       "      <td>female</td>\n",
       "      <td>38.0</td>\n",
       "      <td>1</td>\n",
       "      <td>0</td>\n",
       "      <td>PC 17599</td>\n",
       "      <td>71.2833</td>\n",
       "      <td>C85</td>\n",
       "      <td>C</td>\n",
       "    </tr>\n",
       "    <tr>\n",
       "      <th>2</th>\n",
       "      <td>3</td>\n",
       "      <td>1</td>\n",
       "      <td>3</td>\n",
       "      <td>Heikkinen, Miss. Laina</td>\n",
       "      <td>female</td>\n",
       "      <td>26.0</td>\n",
       "      <td>0</td>\n",
       "      <td>0</td>\n",
       "      <td>STON/O2. 3101282</td>\n",
       "      <td>7.9250</td>\n",
       "      <td>NaN</td>\n",
       "      <td>S</td>\n",
       "    </tr>\n",
       "    <tr>\n",
       "      <th>3</th>\n",
       "      <td>4</td>\n",
       "      <td>1</td>\n",
       "      <td>1</td>\n",
       "      <td>Futrelle, Mrs. Jacques Heath (Lily May Peel)</td>\n",
       "      <td>female</td>\n",
       "      <td>35.0</td>\n",
       "      <td>1</td>\n",
       "      <td>0</td>\n",
       "      <td>113803</td>\n",
       "      <td>53.1000</td>\n",
       "      <td>C123</td>\n",
       "      <td>S</td>\n",
       "    </tr>\n",
       "    <tr>\n",
       "      <th>4</th>\n",
       "      <td>5</td>\n",
       "      <td>0</td>\n",
       "      <td>3</td>\n",
       "      <td>Allen, Mr. William Henry</td>\n",
       "      <td>male</td>\n",
       "      <td>35.0</td>\n",
       "      <td>0</td>\n",
       "      <td>0</td>\n",
       "      <td>373450</td>\n",
       "      <td>8.0500</td>\n",
       "      <td>NaN</td>\n",
       "      <td>S</td>\n",
       "    </tr>\n",
       "    <tr>\n",
       "      <th>...</th>\n",
       "      <td>...</td>\n",
       "      <td>...</td>\n",
       "      <td>...</td>\n",
       "      <td>...</td>\n",
       "      <td>...</td>\n",
       "      <td>...</td>\n",
       "      <td>...</td>\n",
       "      <td>...</td>\n",
       "      <td>...</td>\n",
       "      <td>...</td>\n",
       "      <td>...</td>\n",
       "      <td>...</td>\n",
       "    </tr>\n",
       "    <tr>\n",
       "      <th>886</th>\n",
       "      <td>887</td>\n",
       "      <td>0</td>\n",
       "      <td>2</td>\n",
       "      <td>Montvila, Rev. Juozas</td>\n",
       "      <td>male</td>\n",
       "      <td>27.0</td>\n",
       "      <td>0</td>\n",
       "      <td>0</td>\n",
       "      <td>211536</td>\n",
       "      <td>13.0000</td>\n",
       "      <td>NaN</td>\n",
       "      <td>S</td>\n",
       "    </tr>\n",
       "    <tr>\n",
       "      <th>887</th>\n",
       "      <td>888</td>\n",
       "      <td>1</td>\n",
       "      <td>1</td>\n",
       "      <td>Graham, Miss. Margaret Edith</td>\n",
       "      <td>female</td>\n",
       "      <td>19.0</td>\n",
       "      <td>0</td>\n",
       "      <td>0</td>\n",
       "      <td>112053</td>\n",
       "      <td>30.0000</td>\n",
       "      <td>B42</td>\n",
       "      <td>S</td>\n",
       "    </tr>\n",
       "    <tr>\n",
       "      <th>888</th>\n",
       "      <td>889</td>\n",
       "      <td>0</td>\n",
       "      <td>3</td>\n",
       "      <td>Johnston, Miss. Catherine Helen \"Carrie\"</td>\n",
       "      <td>female</td>\n",
       "      <td>NaN</td>\n",
       "      <td>1</td>\n",
       "      <td>2</td>\n",
       "      <td>W./C. 6607</td>\n",
       "      <td>23.4500</td>\n",
       "      <td>NaN</td>\n",
       "      <td>S</td>\n",
       "    </tr>\n",
       "    <tr>\n",
       "      <th>889</th>\n",
       "      <td>890</td>\n",
       "      <td>1</td>\n",
       "      <td>1</td>\n",
       "      <td>Behr, Mr. Karl Howell</td>\n",
       "      <td>male</td>\n",
       "      <td>26.0</td>\n",
       "      <td>0</td>\n",
       "      <td>0</td>\n",
       "      <td>111369</td>\n",
       "      <td>30.0000</td>\n",
       "      <td>C148</td>\n",
       "      <td>C</td>\n",
       "    </tr>\n",
       "    <tr>\n",
       "      <th>890</th>\n",
       "      <td>891</td>\n",
       "      <td>0</td>\n",
       "      <td>3</td>\n",
       "      <td>Dooley, Mr. Patrick</td>\n",
       "      <td>male</td>\n",
       "      <td>32.0</td>\n",
       "      <td>0</td>\n",
       "      <td>0</td>\n",
       "      <td>370376</td>\n",
       "      <td>7.7500</td>\n",
       "      <td>NaN</td>\n",
       "      <td>Q</td>\n",
       "    </tr>\n",
       "  </tbody>\n",
       "</table>\n",
       "<p>891 rows × 12 columns</p>\n",
       "</div>"
      ],
      "text/plain": [
       "     PassengerId  Survived  Pclass  \\\n",
       "0              1         0       3   \n",
       "1              2         1       1   \n",
       "2              3         1       3   \n",
       "3              4         1       1   \n",
       "4              5         0       3   \n",
       "..           ...       ...     ...   \n",
       "886          887         0       2   \n",
       "887          888         1       1   \n",
       "888          889         0       3   \n",
       "889          890         1       1   \n",
       "890          891         0       3   \n",
       "\n",
       "                                                  Name     Sex   Age  SibSp  \\\n",
       "0                              Braund, Mr. Owen Harris    male  22.0      1   \n",
       "1    Cumings, Mrs. John Bradley (Florence Briggs Th...  female  38.0      1   \n",
       "2                               Heikkinen, Miss. Laina  female  26.0      0   \n",
       "3         Futrelle, Mrs. Jacques Heath (Lily May Peel)  female  35.0      1   \n",
       "4                             Allen, Mr. William Henry    male  35.0      0   \n",
       "..                                                 ...     ...   ...    ...   \n",
       "886                              Montvila, Rev. Juozas    male  27.0      0   \n",
       "887                       Graham, Miss. Margaret Edith  female  19.0      0   \n",
       "888           Johnston, Miss. Catherine Helen \"Carrie\"  female   NaN      1   \n",
       "889                              Behr, Mr. Karl Howell    male  26.0      0   \n",
       "890                                Dooley, Mr. Patrick    male  32.0      0   \n",
       "\n",
       "     Parch            Ticket     Fare Cabin Embarked  \n",
       "0        0         A/5 21171   7.2500   NaN        S  \n",
       "1        0          PC 17599  71.2833   C85        C  \n",
       "2        0  STON/O2. 3101282   7.9250   NaN        S  \n",
       "3        0            113803  53.1000  C123        S  \n",
       "4        0            373450   8.0500   NaN        S  \n",
       "..     ...               ...      ...   ...      ...  \n",
       "886      0            211536  13.0000   NaN        S  \n",
       "887      0            112053  30.0000   B42        S  \n",
       "888      2        W./C. 6607  23.4500   NaN        S  \n",
       "889      0            111369  30.0000  C148        C  \n",
       "890      0            370376   7.7500   NaN        Q  \n",
       "\n",
       "[891 rows x 12 columns]"
      ]
     },
     "execution_count": 3,
     "metadata": {},
     "output_type": "execute_result"
    }
   ],
   "source": [
    "titanic_data"
   ]
  },
  {
   "cell_type": "code",
   "execution_count": 4,
   "id": "expected-gathering",
   "metadata": {
    "execution": {
     "iopub.execute_input": "2021-06-12T22:35:42.542252Z",
     "iopub.status.busy": "2021-06-12T22:35:42.541253Z",
     "iopub.status.idle": "2021-06-12T22:35:42.574836Z",
     "shell.execute_reply": "2021-06-12T22:35:42.574285Z",
     "shell.execute_reply.started": "2021-06-12T22:32:14.04178Z"
    },
    "papermill": {
     "duration": 0.076949,
     "end_time": "2021-06-12T22:35:42.574991",
     "exception": false,
     "start_time": "2021-06-12T22:35:42.498042",
     "status": "completed"
    },
    "tags": []
   },
   "outputs": [
    {
     "data": {
      "text/html": [
       "<div>\n",
       "<style scoped>\n",
       "    .dataframe tbody tr th:only-of-type {\n",
       "        vertical-align: middle;\n",
       "    }\n",
       "\n",
       "    .dataframe tbody tr th {\n",
       "        vertical-align: top;\n",
       "    }\n",
       "\n",
       "    .dataframe thead th {\n",
       "        text-align: right;\n",
       "    }\n",
       "</style>\n",
       "<table border=\"1\" class=\"dataframe\">\n",
       "  <thead>\n",
       "    <tr style=\"text-align: right;\">\n",
       "      <th></th>\n",
       "      <th>PassengerId</th>\n",
       "      <th>Survived</th>\n",
       "      <th>Pclass</th>\n",
       "      <th>Age</th>\n",
       "      <th>SibSp</th>\n",
       "      <th>Parch</th>\n",
       "      <th>Fare</th>\n",
       "    </tr>\n",
       "  </thead>\n",
       "  <tbody>\n",
       "    <tr>\n",
       "      <th>count</th>\n",
       "      <td>891.000000</td>\n",
       "      <td>891.000000</td>\n",
       "      <td>891.000000</td>\n",
       "      <td>714.000000</td>\n",
       "      <td>891.000000</td>\n",
       "      <td>891.000000</td>\n",
       "      <td>891.000000</td>\n",
       "    </tr>\n",
       "    <tr>\n",
       "      <th>mean</th>\n",
       "      <td>446.000000</td>\n",
       "      <td>0.383838</td>\n",
       "      <td>2.308642</td>\n",
       "      <td>29.699118</td>\n",
       "      <td>0.523008</td>\n",
       "      <td>0.381594</td>\n",
       "      <td>32.204208</td>\n",
       "    </tr>\n",
       "    <tr>\n",
       "      <th>std</th>\n",
       "      <td>257.353842</td>\n",
       "      <td>0.486592</td>\n",
       "      <td>0.836071</td>\n",
       "      <td>14.526497</td>\n",
       "      <td>1.102743</td>\n",
       "      <td>0.806057</td>\n",
       "      <td>49.693429</td>\n",
       "    </tr>\n",
       "    <tr>\n",
       "      <th>min</th>\n",
       "      <td>1.000000</td>\n",
       "      <td>0.000000</td>\n",
       "      <td>1.000000</td>\n",
       "      <td>0.420000</td>\n",
       "      <td>0.000000</td>\n",
       "      <td>0.000000</td>\n",
       "      <td>0.000000</td>\n",
       "    </tr>\n",
       "    <tr>\n",
       "      <th>25%</th>\n",
       "      <td>223.500000</td>\n",
       "      <td>0.000000</td>\n",
       "      <td>2.000000</td>\n",
       "      <td>20.125000</td>\n",
       "      <td>0.000000</td>\n",
       "      <td>0.000000</td>\n",
       "      <td>7.910400</td>\n",
       "    </tr>\n",
       "    <tr>\n",
       "      <th>50%</th>\n",
       "      <td>446.000000</td>\n",
       "      <td>0.000000</td>\n",
       "      <td>3.000000</td>\n",
       "      <td>28.000000</td>\n",
       "      <td>0.000000</td>\n",
       "      <td>0.000000</td>\n",
       "      <td>14.454200</td>\n",
       "    </tr>\n",
       "    <tr>\n",
       "      <th>75%</th>\n",
       "      <td>668.500000</td>\n",
       "      <td>1.000000</td>\n",
       "      <td>3.000000</td>\n",
       "      <td>38.000000</td>\n",
       "      <td>1.000000</td>\n",
       "      <td>0.000000</td>\n",
       "      <td>31.000000</td>\n",
       "    </tr>\n",
       "    <tr>\n",
       "      <th>max</th>\n",
       "      <td>891.000000</td>\n",
       "      <td>1.000000</td>\n",
       "      <td>3.000000</td>\n",
       "      <td>80.000000</td>\n",
       "      <td>8.000000</td>\n",
       "      <td>6.000000</td>\n",
       "      <td>512.329200</td>\n",
       "    </tr>\n",
       "  </tbody>\n",
       "</table>\n",
       "</div>"
      ],
      "text/plain": [
       "       PassengerId    Survived      Pclass         Age       SibSp  \\\n",
       "count   891.000000  891.000000  891.000000  714.000000  891.000000   \n",
       "mean    446.000000    0.383838    2.308642   29.699118    0.523008   \n",
       "std     257.353842    0.486592    0.836071   14.526497    1.102743   \n",
       "min       1.000000    0.000000    1.000000    0.420000    0.000000   \n",
       "25%     223.500000    0.000000    2.000000   20.125000    0.000000   \n",
       "50%     446.000000    0.000000    3.000000   28.000000    0.000000   \n",
       "75%     668.500000    1.000000    3.000000   38.000000    1.000000   \n",
       "max     891.000000    1.000000    3.000000   80.000000    8.000000   \n",
       "\n",
       "            Parch        Fare  \n",
       "count  891.000000  891.000000  \n",
       "mean     0.381594   32.204208  \n",
       "std      0.806057   49.693429  \n",
       "min      0.000000    0.000000  \n",
       "25%      0.000000    7.910400  \n",
       "50%      0.000000   14.454200  \n",
       "75%      0.000000   31.000000  \n",
       "max      6.000000  512.329200  "
      ]
     },
     "execution_count": 4,
     "metadata": {},
     "output_type": "execute_result"
    }
   ],
   "source": [
    "titanic_data.describe()"
   ]
  },
  {
   "cell_type": "code",
   "execution_count": 5,
   "id": "alternate-brain",
   "metadata": {
    "execution": {
     "iopub.execute_input": "2021-06-12T22:35:42.661641Z",
     "iopub.status.busy": "2021-06-12T22:35:42.658061Z",
     "iopub.status.idle": "2021-06-12T22:35:42.667364Z",
     "shell.execute_reply": "2021-06-12T22:35:42.666566Z",
     "shell.execute_reply.started": "2021-06-12T22:32:14.088175Z"
    },
    "papermill": {
     "duration": 0.059557,
     "end_time": "2021-06-12T22:35:42.667592",
     "exception": false,
     "start_time": "2021-06-12T22:35:42.608035",
     "status": "completed"
    },
    "tags": []
   },
   "outputs": [
    {
     "name": "stdout",
     "output_type": "stream",
     "text": [
      "<class 'pandas.core.frame.DataFrame'>\n",
      "RangeIndex: 891 entries, 0 to 890\n",
      "Data columns (total 12 columns):\n",
      " #   Column       Non-Null Count  Dtype  \n",
      "---  ------       --------------  -----  \n",
      " 0   PassengerId  891 non-null    int64  \n",
      " 1   Survived     891 non-null    int64  \n",
      " 2   Pclass       891 non-null    int64  \n",
      " 3   Name         891 non-null    object \n",
      " 4   Sex          891 non-null    object \n",
      " 5   Age          714 non-null    float64\n",
      " 6   SibSp        891 non-null    int64  \n",
      " 7   Parch        891 non-null    int64  \n",
      " 8   Ticket       891 non-null    object \n",
      " 9   Fare         891 non-null    float64\n",
      " 10  Cabin        204 non-null    object \n",
      " 11  Embarked     889 non-null    object \n",
      "dtypes: float64(2), int64(5), object(5)\n",
      "memory usage: 83.7+ KB\n"
     ]
    }
   ],
   "source": [
    "titanic_data.info()"
   ]
  },
  {
   "cell_type": "code",
   "execution_count": 6,
   "id": "indoor-austin",
   "metadata": {
    "execution": {
     "iopub.execute_input": "2021-06-12T22:35:42.745073Z",
     "iopub.status.busy": "2021-06-12T22:35:42.742434Z",
     "iopub.status.idle": "2021-06-12T22:35:42.749568Z",
     "shell.execute_reply": "2021-06-12T22:35:42.748978Z",
     "shell.execute_reply.started": "2021-06-12T22:32:14.112666Z"
    },
    "papermill": {
     "duration": 0.047417,
     "end_time": "2021-06-12T22:35:42.749738",
     "exception": false,
     "start_time": "2021-06-12T22:35:42.702321",
     "status": "completed"
    },
    "tags": []
   },
   "outputs": [
    {
     "data": {
      "text/plain": [
       "PassengerId      0\n",
       "Survived         0\n",
       "Pclass           0\n",
       "Name             0\n",
       "Sex              0\n",
       "Age            177\n",
       "SibSp            0\n",
       "Parch            0\n",
       "Ticket           0\n",
       "Fare             0\n",
       "Cabin          687\n",
       "Embarked         2\n",
       "dtype: int64"
      ]
     },
     "execution_count": 6,
     "metadata": {},
     "output_type": "execute_result"
    }
   ],
   "source": [
    "titanic_data.isnull().sum()"
   ]
  },
  {
   "cell_type": "code",
   "execution_count": 7,
   "id": "compatible-charity",
   "metadata": {
    "execution": {
     "iopub.execute_input": "2021-06-12T22:35:42.827501Z",
     "iopub.status.busy": "2021-06-12T22:35:42.826525Z",
     "iopub.status.idle": "2021-06-12T22:35:42.831140Z",
     "shell.execute_reply": "2021-06-12T22:35:42.830523Z",
     "shell.execute_reply.started": "2021-06-12T22:32:14.132154Z"
    },
    "papermill": {
     "duration": 0.047466,
     "end_time": "2021-06-12T22:35:42.831295",
     "exception": false,
     "start_time": "2021-06-12T22:35:42.783829",
     "status": "completed"
    },
    "tags": []
   },
   "outputs": [
    {
     "data": {
      "text/plain": [
       "PassengerId      0\n",
       "Pclass           0\n",
       "Name             0\n",
       "Sex              0\n",
       "Age             86\n",
       "SibSp            0\n",
       "Parch            0\n",
       "Ticket           0\n",
       "Fare             1\n",
       "Cabin          327\n",
       "Embarked         0\n",
       "dtype: int64"
      ]
     },
     "execution_count": 7,
     "metadata": {},
     "output_type": "execute_result"
    }
   ],
   "source": [
    "test_data.isnull().sum()"
   ]
  },
  {
   "cell_type": "markdown",
   "id": "toxic-confidentiality",
   "metadata": {
    "papermill": {
     "duration": 0.033499,
     "end_time": "2021-06-12T22:35:42.898635",
     "exception": false,
     "start_time": "2021-06-12T22:35:42.865136",
     "status": "completed"
    },
    "tags": []
   },
   "source": [
    "# Preproccessing \n"
   ]
  },
  {
   "cell_type": "markdown",
   "id": "occupational-polls",
   "metadata": {
    "papermill": {
     "duration": 0.033717,
     "end_time": "2021-06-12T22:35:42.966623",
     "exception": false,
     "start_time": "2021-06-12T22:35:42.932906",
     "status": "completed"
    },
    "tags": []
   },
   "source": [
    "## Filing missing age values with age mean (better here than median)"
   ]
  },
  {
   "cell_type": "code",
   "execution_count": 8,
   "id": "nonprofit-postage",
   "metadata": {
    "execution": {
     "iopub.execute_input": "2021-06-12T22:35:43.045315Z",
     "iopub.status.busy": "2021-06-12T22:35:43.044440Z",
     "iopub.status.idle": "2021-06-12T22:35:43.047307Z",
     "shell.execute_reply": "2021-06-12T22:35:43.046632Z",
     "shell.execute_reply.started": "2021-06-12T22:32:14.152695Z"
    },
    "papermill": {
     "duration": 0.04489,
     "end_time": "2021-06-12T22:35:43.047465",
     "exception": false,
     "start_time": "2021-06-12T22:35:43.002575",
     "status": "completed"
    },
    "tags": []
   },
   "outputs": [],
   "source": [
    "titanic_data[\"Age\"].fillna(titanic_data['Age'].mean(), inplace = True)\n",
    "test_data[\"Age\"].fillna(test_data['Age'].mean(), inplace = True)"
   ]
  },
  {
   "cell_type": "code",
   "execution_count": 9,
   "id": "filled-arizona",
   "metadata": {
    "execution": {
     "iopub.execute_input": "2021-06-12T22:35:43.122649Z",
     "iopub.status.busy": "2021-06-12T22:35:43.121645Z",
     "iopub.status.idle": "2021-06-12T22:35:43.124639Z",
     "shell.execute_reply": "2021-06-12T22:35:43.123972Z",
     "shell.execute_reply.started": "2021-06-12T22:32:14.169176Z"
    },
    "papermill": {
     "duration": 0.041619,
     "end_time": "2021-06-12T22:35:43.124801",
     "exception": false,
     "start_time": "2021-06-12T22:35:43.083182",
     "status": "completed"
    },
    "tags": []
   },
   "outputs": [],
   "source": [
    "#titanic_data[\"Cabin\"].fillna( method ='pad', inplace = True)\n",
    "#titanic_data[\"Cabin\"].fillna( method ='bfill', inplace = True)\n",
    "#test_data[\"Cabin\"].fillna( method ='pad', inplace = True)\n",
    "#test_data[\"Cabin\"].fillna( method ='bfill', inplace = True)\n",
    "#test_data.isnull().sum()"
   ]
  },
  {
   "cell_type": "markdown",
   "id": "allied-scholarship",
   "metadata": {
    "papermill": {
     "duration": 0.033802,
     "end_time": "2021-06-12T22:35:43.192855",
     "exception": false,
     "start_time": "2021-06-12T22:35:43.159053",
     "status": "completed"
    },
    "tags": []
   },
   "source": [
    "## Filling missing fare value in the test data using pad method"
   ]
  },
  {
   "cell_type": "code",
   "execution_count": 10,
   "id": "alike-trader",
   "metadata": {
    "execution": {
     "iopub.execute_input": "2021-06-12T22:35:43.265052Z",
     "iopub.status.busy": "2021-06-12T22:35:43.264202Z",
     "iopub.status.idle": "2021-06-12T22:35:43.279395Z",
     "shell.execute_reply": "2021-06-12T22:35:43.279939Z",
     "shell.execute_reply.started": "2021-06-12T22:32:14.184962Z"
    },
    "papermill": {
     "duration": 0.052945,
     "end_time": "2021-06-12T22:35:43.280136",
     "exception": false,
     "start_time": "2021-06-12T22:35:43.227191",
     "status": "completed"
    },
    "tags": []
   },
   "outputs": [
    {
     "data": {
      "text/plain": [
       "PassengerId      0\n",
       "Pclass           0\n",
       "Name             0\n",
       "Sex              0\n",
       "Age              0\n",
       "SibSp            0\n",
       "Parch            0\n",
       "Ticket           0\n",
       "Fare             0\n",
       "Cabin          327\n",
       "Embarked         0\n",
       "dtype: int64"
      ]
     },
     "execution_count": 10,
     "metadata": {},
     "output_type": "execute_result"
    }
   ],
   "source": [
    "#titanic_data[\"Embarked\"].fillna( method ='pad', inplace = True)\n",
    "test_data[\"Fare\"].fillna( method ='pad', inplace = True)\n",
    "test_data.isnull().sum()"
   ]
  },
  {
   "cell_type": "markdown",
   "id": "associate-video",
   "metadata": {
    "papermill": {
     "duration": 0.033631,
     "end_time": "2021-06-12T22:35:43.347898",
     "exception": false,
     "start_time": "2021-06-12T22:35:43.314267",
     "status": "completed"
    },
    "tags": []
   },
   "source": [
    "## Transorming male to 1 and female to 0"
   ]
  },
  {
   "cell_type": "code",
   "execution_count": 11,
   "id": "breathing-departure",
   "metadata": {
    "execution": {
     "iopub.execute_input": "2021-06-12T22:35:43.420381Z",
     "iopub.status.busy": "2021-06-12T22:35:43.419373Z",
     "iopub.status.idle": "2021-06-12T22:35:43.430509Z",
     "shell.execute_reply": "2021-06-12T22:35:43.429773Z",
     "shell.execute_reply.started": "2021-06-12T22:32:14.205462Z"
    },
    "papermill": {
     "duration": 0.048788,
     "end_time": "2021-06-12T22:35:43.430708",
     "exception": false,
     "start_time": "2021-06-12T22:35:43.381920",
     "status": "completed"
    },
    "tags": []
   },
   "outputs": [],
   "source": [
    "titanic_data['Sex'].replace('female', 0,inplace=True)\n",
    "titanic_data['Sex'].replace('male', 1,inplace=True)\n",
    "\n",
    "test_data['Sex'].replace('female', 0,inplace=True)\n",
    "test_data['Sex'].replace('male', 1,inplace=True)"
   ]
  },
  {
   "cell_type": "markdown",
   "id": "moving-confusion",
   "metadata": {
    "papermill": {
     "duration": 0.035111,
     "end_time": "2021-06-12T22:35:43.500383",
     "exception": false,
     "start_time": "2021-06-12T22:35:43.465272",
     "status": "completed"
    },
    "tags": []
   },
   "source": [
    "## Choosing Pclass, Sex, Age,SibSp, Parch, and Fare as Features"
   ]
  },
  {
   "cell_type": "code",
   "execution_count": 12,
   "id": "convenient-asbestos",
   "metadata": {
    "execution": {
     "iopub.execute_input": "2021-06-12T22:35:43.577462Z",
     "iopub.status.busy": "2021-06-12T22:35:43.575820Z",
     "iopub.status.idle": "2021-06-12T22:35:43.579798Z",
     "shell.execute_reply": "2021-06-12T22:35:43.580377Z",
     "shell.execute_reply.started": "2021-06-12T22:32:14.220359Z"
    },
    "papermill": {
     "duration": 0.045297,
     "end_time": "2021-06-12T22:35:43.580618",
     "exception": false,
     "start_time": "2021-06-12T22:35:43.535321",
     "status": "completed"
    },
    "tags": []
   },
   "outputs": [],
   "source": [
    "y = titanic_data.Survived\n",
    "features = ['Pclass', 'Sex', 'Age','SibSp', 'Parch', 'Fare']\n",
    "X = titanic_data[features]"
   ]
  },
  {
   "cell_type": "markdown",
   "id": "developmental-sigma",
   "metadata": {
    "papermill": {
     "duration": 0.033625,
     "end_time": "2021-06-12T22:35:43.649270",
     "exception": false,
     "start_time": "2021-06-12T22:35:43.615645",
     "status": "completed"
    },
    "tags": []
   },
   "source": [
    "## Spliting the training data 0.15/0.85"
   ]
  },
  {
   "cell_type": "code",
   "execution_count": 13,
   "id": "female-festival",
   "metadata": {
    "execution": {
     "iopub.execute_input": "2021-06-12T22:35:43.723419Z",
     "iopub.status.busy": "2021-06-12T22:35:43.722667Z",
     "iopub.status.idle": "2021-06-12T22:35:44.832876Z",
     "shell.execute_reply": "2021-06-12T22:35:44.833383Z",
     "shell.execute_reply.started": "2021-06-12T22:32:14.243485Z"
    },
    "papermill": {
     "duration": 1.150334,
     "end_time": "2021-06-12T22:35:44.833616",
     "exception": false,
     "start_time": "2021-06-12T22:35:43.683282",
     "status": "completed"
    },
    "tags": []
   },
   "outputs": [],
   "source": [
    "from sklearn.model_selection import  train_test_split\n",
    "train_X, val_X, train_y, val_y = train_test_split(X, y,test_size=0.15, train_size=0.85, random_state = 1)"
   ]
  },
  {
   "cell_type": "markdown",
   "id": "micro-bargain",
   "metadata": {
    "papermill": {
     "duration": 0.035507,
     "end_time": "2021-06-12T22:35:44.904361",
     "exception": false,
     "start_time": "2021-06-12T22:35:44.868854",
     "status": "completed"
    },
    "tags": []
   },
   "source": [
    "# Training, validating, and comparing the accuray score of different classifers"
   ]
  },
  {
   "cell_type": "markdown",
   "id": "herbal-layer",
   "metadata": {
    "papermill": {
     "duration": 0.034334,
     "end_time": "2021-06-12T22:35:44.973719",
     "exception": false,
     "start_time": "2021-06-12T22:35:44.939385",
     "status": "completed"
    },
    "tags": []
   },
   "source": [
    "## Decision tree with variable max_leaf_nodes"
   ]
  },
  {
   "cell_type": "code",
   "execution_count": 14,
   "id": "chinese-pittsburgh",
   "metadata": {
    "execution": {
     "iopub.execute_input": "2021-06-12T22:35:45.051763Z",
     "iopub.status.busy": "2021-06-12T22:35:45.050843Z",
     "iopub.status.idle": "2021-06-12T22:35:45.280247Z",
     "shell.execute_reply": "2021-06-12T22:35:45.279589Z",
     "shell.execute_reply.started": "2021-06-12T22:32:14.260428Z"
    },
    "papermill": {
     "duration": 0.272047,
     "end_time": "2021-06-12T22:35:45.280423",
     "exception": false,
     "start_time": "2021-06-12T22:35:45.008376",
     "status": "completed"
    },
    "tags": []
   },
   "outputs": [],
   "source": [
    "from sklearn.tree import DecisionTreeRegressor\n",
    "def get_acc_score_dtree(max_leaf_nodes, train_X, val_X, train_y, val_y):\n",
    "    model = DecisionTreeRegressor(max_leaf_nodes=max_leaf_nodes ,random_state=1)\n",
    "    model.fit(train_X, train_y)\n",
    "    preds_val = model.predict(val_X)\n",
    "    output = preds_val.round(0).astype(int)\n",
    "    acc = accuracy_score(val_y, output)\n",
    "    return(acc)"
   ]
  },
  {
   "cell_type": "markdown",
   "id": "earlier-system",
   "metadata": {
    "papermill": {
     "duration": 0.034474,
     "end_time": "2021-06-12T22:35:45.350213",
     "exception": false,
     "start_time": "2021-06-12T22:35:45.315739",
     "status": "completed"
    },
    "tags": []
   },
   "source": [
    "## KNN with variable n_neighbors"
   ]
  },
  {
   "cell_type": "code",
   "execution_count": 15,
   "id": "modified-stadium",
   "metadata": {
    "execution": {
     "iopub.execute_input": "2021-06-12T22:35:45.428351Z",
     "iopub.status.busy": "2021-06-12T22:35:45.427600Z",
     "iopub.status.idle": "2021-06-12T22:35:45.431674Z",
     "shell.execute_reply": "2021-06-12T22:35:45.431081Z",
     "shell.execute_reply.started": "2021-06-12T22:32:14.277118Z"
    },
    "papermill": {
     "duration": 0.046338,
     "end_time": "2021-06-12T22:35:45.431844",
     "exception": false,
     "start_time": "2021-06-12T22:35:45.385506",
     "status": "completed"
    },
    "tags": []
   },
   "outputs": [],
   "source": [
    "from sklearn.neighbors import KNeighborsClassifier\n",
    "def get_acc_score_KNN(n_neighbors, train_X, val_X, train_y, val_y):\n",
    "    model = KNeighborsClassifier(n_neighbors=n_neighbors)\n",
    "    model.fit(train_X, train_y)\n",
    "    preds_val = model.predict(val_X)\n",
    "    output = preds_val.round(0).astype(int)\n",
    "    acc = accuracy_score(val_y, output)\n",
    "    return(acc)"
   ]
  },
  {
   "cell_type": "markdown",
   "id": "pleased-protest",
   "metadata": {
    "papermill": {
     "duration": 0.034305,
     "end_time": "2021-06-12T22:35:45.501166",
     "exception": false,
     "start_time": "2021-06-12T22:35:45.466861",
     "status": "completed"
    },
    "tags": []
   },
   "source": [
    "## SVC with linear kernel"
   ]
  },
  {
   "cell_type": "code",
   "execution_count": 16,
   "id": "appropriate-intensity",
   "metadata": {
    "execution": {
     "iopub.execute_input": "2021-06-12T22:35:45.580055Z",
     "iopub.status.busy": "2021-06-12T22:35:45.578810Z",
     "iopub.status.idle": "2021-06-12T22:35:45.583237Z",
     "shell.execute_reply": "2021-06-12T22:35:45.582487Z",
     "shell.execute_reply.started": "2021-06-12T22:32:14.288903Z"
    },
    "papermill": {
     "duration": 0.04751,
     "end_time": "2021-06-12T22:35:45.583403",
     "exception": false,
     "start_time": "2021-06-12T22:35:45.535893",
     "status": "completed"
    },
    "tags": []
   },
   "outputs": [],
   "source": [
    "from sklearn.svm import SVC\n",
    "def get_acc_score_SVC(train_X, val_X, train_y, val_y):\n",
    "    model = SVC(kernel='linear')\n",
    "    model.fit(train_X, train_y)\n",
    "    preds_val = model.predict(val_X)\n",
    "    output = preds_val.round(0).astype(int)\n",
    "    acc = accuracy_score(val_y, output)\n",
    "    return(acc)"
   ]
  },
  {
   "cell_type": "markdown",
   "id": "crazy-chemistry",
   "metadata": {
    "papermill": {
     "duration": 0.034573,
     "end_time": "2021-06-12T22:35:45.652699",
     "exception": false,
     "start_time": "2021-06-12T22:35:45.618126",
     "status": "completed"
    },
    "tags": []
   },
   "source": [
    "## Naive bayes classifer"
   ]
  },
  {
   "cell_type": "code",
   "execution_count": 17,
   "id": "formal-lodge",
   "metadata": {
    "execution": {
     "iopub.execute_input": "2021-06-12T22:35:45.729789Z",
     "iopub.status.busy": "2021-06-12T22:35:45.728712Z",
     "iopub.status.idle": "2021-06-12T22:35:45.735901Z",
     "shell.execute_reply": "2021-06-12T22:35:45.735092Z",
     "shell.execute_reply.started": "2021-06-12T22:32:14.303231Z"
    },
    "papermill": {
     "duration": 0.048933,
     "end_time": "2021-06-12T22:35:45.736067",
     "exception": false,
     "start_time": "2021-06-12T22:35:45.687134",
     "status": "completed"
    },
    "tags": []
   },
   "outputs": [],
   "source": [
    "from sklearn.naive_bayes import MultinomialNB\n",
    "def get_acc_score_naive(train_X, val_X, train_y, val_y):\n",
    "    model = MultinomialNB()\n",
    "    model.fit(train_X, train_y)\n",
    "    preds_val = model.predict(val_X)\n",
    "    output = preds_val.round(0).astype(int)\n",
    "    acc = accuracy_score(val_y, output)\n",
    "    return(acc)"
   ]
  },
  {
   "cell_type": "markdown",
   "id": "inappropriate-contribution",
   "metadata": {
    "papermill": {
     "duration": 0.033713,
     "end_time": "2021-06-12T22:35:45.804370",
     "exception": false,
     "start_time": "2021-06-12T22:35:45.770657",
     "status": "completed"
    },
    "tags": []
   },
   "source": [
    "## Random forest with variable max_depth"
   ]
  },
  {
   "cell_type": "code",
   "execution_count": 18,
   "id": "handy-message",
   "metadata": {
    "execution": {
     "iopub.execute_input": "2021-06-12T22:35:45.877349Z",
     "iopub.status.busy": "2021-06-12T22:35:45.876216Z",
     "iopub.status.idle": "2021-06-12T22:35:45.911620Z",
     "shell.execute_reply": "2021-06-12T22:35:45.912168Z",
     "shell.execute_reply.started": "2021-06-12T22:32:14.320118Z"
    },
    "papermill": {
     "duration": 0.074137,
     "end_time": "2021-06-12T22:35:45.912390",
     "exception": false,
     "start_time": "2021-06-12T22:35:45.838253",
     "status": "completed"
    },
    "tags": []
   },
   "outputs": [],
   "source": [
    "from sklearn.ensemble import RandomForestClassifier\n",
    "def get_acc_score_rforest(max_depth, train_X, val_X, train_y, val_y):\n",
    "    model = DecisionTreeRegressor(max_depth=max_depth ,random_state=1)\n",
    "    model.fit(train_X, train_y)\n",
    "    preds_val = model.predict(val_X)\n",
    "    output = preds_val.round(0).astype(int)\n",
    "    acc = accuracy_score(val_y, output)\n",
    "    return(acc)"
   ]
  },
  {
   "cell_type": "markdown",
   "id": "dutch-student",
   "metadata": {
    "papermill": {
     "duration": 0.034013,
     "end_time": "2021-06-12T22:35:45.980624",
     "exception": false,
     "start_time": "2021-06-12T22:35:45.946611",
     "status": "completed"
    },
    "tags": []
   },
   "source": [
    "## Calling decision tree function with multiple candidate max leaf nodes and then choosing the best tree size"
   ]
  },
  {
   "cell_type": "code",
   "execution_count": 19,
   "id": "settled-hebrew",
   "metadata": {
    "execution": {
     "iopub.execute_input": "2021-06-12T22:35:46.054387Z",
     "iopub.status.busy": "2021-06-12T22:35:46.053043Z",
     "iopub.status.idle": "2021-06-12T22:35:46.178346Z",
     "shell.execute_reply": "2021-06-12T22:35:46.179079Z",
     "shell.execute_reply.started": "2021-06-12T22:32:14.333639Z"
    },
    "papermill": {
     "duration": 0.164532,
     "end_time": "2021-06-12T22:35:46.179287",
     "exception": false,
     "start_time": "2021-06-12T22:35:46.014755",
     "status": "completed"
    },
    "tags": []
   },
   "outputs": [
    {
     "name": "stdout",
     "output_type": "stream",
     "text": [
      "Accuracy: 0.8432835820895522\n",
      "Best tree size: 45\n"
     ]
    }
   ],
   "source": [
    "from sklearn.metrics import accuracy_score\n",
    "acc_dict = {}\n",
    "candidate_max_leaf_nodes = [ 2,3,4,5,6,7,8,9,10, 25, 45,50,65, 100 ,125,150,175,200, 250,300 ]\n",
    "# Write loop to find the ideal tree size from candidate_max_leaf_nodes\n",
    "best_tree_size = candidate_max_leaf_nodes[0]\n",
    "last_acc = float('inf')\n",
    "max_acc = float('inf')\n",
    "for max_leaf_nodes in candidate_max_leaf_nodes:\n",
    "    acc = get_acc_score_dtree(max_leaf_nodes, train_X, val_X, train_y, val_y)\n",
    "    if(acc > last_acc):\n",
    "        best_tree_size = max_leaf_nodes\n",
    "        max_acc = acc\n",
    "    last_acc = acc\n",
    "acc_dict[\"Decision tree\"] = max_acc\n",
    "print(\"Accuracy:\",max_acc)\n",
    "print(\"Best tree size:\",best_tree_size)"
   ]
  },
  {
   "cell_type": "markdown",
   "id": "matched-startup",
   "metadata": {
    "papermill": {
     "duration": 0.034507,
     "end_time": "2021-06-12T22:35:46.249708",
     "exception": false,
     "start_time": "2021-06-12T22:35:46.215201",
     "status": "completed"
    },
    "tags": []
   },
   "source": [
    "## Calling SVC function and prinitng its accuracy score"
   ]
  },
  {
   "cell_type": "code",
   "execution_count": 20,
   "id": "thousand-crystal",
   "metadata": {
    "execution": {
     "iopub.execute_input": "2021-06-12T22:35:46.324855Z",
     "iopub.status.busy": "2021-06-12T22:35:46.323766Z",
     "iopub.status.idle": "2021-06-12T22:35:54.805019Z",
     "shell.execute_reply": "2021-06-12T22:35:54.805528Z",
     "shell.execute_reply.started": "2021-06-12T22:32:14.456587Z"
    },
    "papermill": {
     "duration": 8.519927,
     "end_time": "2021-06-12T22:35:54.805748",
     "exception": false,
     "start_time": "2021-06-12T22:35:46.285821",
     "status": "completed"
    },
    "tags": []
   },
   "outputs": [
    {
     "name": "stdout",
     "output_type": "stream",
     "text": [
      "Accuracy: 0.7686567164179104\n"
     ]
    }
   ],
   "source": [
    "\n",
    "max_acc = get_acc_score_SVC(train_X, val_X, train_y, val_y)\n",
    "acc_dict[\"SVC\"] = acc\n",
    "print(\"Accuracy:\",max_acc)\n",
    " "
   ]
  },
  {
   "cell_type": "markdown",
   "id": "ancient-layer",
   "metadata": {
    "papermill": {
     "duration": 0.034615,
     "end_time": "2021-06-12T22:35:54.874995",
     "exception": false,
     "start_time": "2021-06-12T22:35:54.840380",
     "status": "completed"
    },
    "tags": []
   },
   "source": [
    "## Calling naive bayes function and prinitng its accuracy score"
   ]
  },
  {
   "cell_type": "code",
   "execution_count": 21,
   "id": "fatal-omega",
   "metadata": {
    "execution": {
     "iopub.execute_input": "2021-06-12T22:35:54.952010Z",
     "iopub.status.busy": "2021-06-12T22:35:54.951018Z",
     "iopub.status.idle": "2021-06-12T22:35:54.969501Z",
     "shell.execute_reply": "2021-06-12T22:35:54.968941Z",
     "shell.execute_reply.started": "2021-06-12T22:32:22.922828Z"
    },
    "papermill": {
     "duration": 0.058531,
     "end_time": "2021-06-12T22:35:54.969681",
     "exception": false,
     "start_time": "2021-06-12T22:35:54.911150",
     "status": "completed"
    },
    "tags": []
   },
   "outputs": [
    {
     "name": "stdout",
     "output_type": "stream",
     "text": [
      "Accuracy: 0.6268656716417911\n"
     ]
    }
   ],
   "source": [
    "max_acc = get_acc_score_naive(train_X, val_X, train_y, val_y)\n",
    "acc_dict[\"Naive bayes\"] = acc\n",
    "print(\"Accuracy:\",max_acc)"
   ]
  },
  {
   "cell_type": "markdown",
   "id": "spare-airline",
   "metadata": {
    "papermill": {
     "duration": 0.036628,
     "end_time": "2021-06-12T22:35:55.041897",
     "exception": false,
     "start_time": "2021-06-12T22:35:55.005269",
     "status": "completed"
    },
    "tags": []
   },
   "source": [
    "## Calling KNN function with multiple candidate nearest neighbors and then choosing the best number of neighbors"
   ]
  },
  {
   "cell_type": "code",
   "execution_count": 22,
   "id": "caring-state",
   "metadata": {
    "execution": {
     "iopub.execute_input": "2021-06-12T22:35:55.120249Z",
     "iopub.status.busy": "2021-06-12T22:35:55.119483Z",
     "iopub.status.idle": "2021-06-12T22:35:55.406211Z",
     "shell.execute_reply": "2021-06-12T22:35:55.405434Z",
     "shell.execute_reply.started": "2021-06-12T22:32:22.941121Z"
    },
    "papermill": {
     "duration": 0.328376,
     "end_time": "2021-06-12T22:35:55.406374",
     "exception": false,
     "start_time": "2021-06-12T22:35:55.077998",
     "status": "completed"
    },
    "tags": []
   },
   "outputs": [
    {
     "name": "stdout",
     "output_type": "stream",
     "text": [
      "Accuracy: 0.6268656716417911\n",
      "Best neighbors: 200\n"
     ]
    }
   ],
   "source": [
    "neighbors_number = [ 2,3,4,5,6,7,8,9,10, 25, 45,50,65, 100 ,125,150,175,200, 250,300 ]\n",
    "last_acc = float('inf')\n",
    "max_acc = float('inf')\n",
    "for neighbor in neighbors_number:\n",
    "    acc = get_acc_score_KNN(neighbor, train_X, val_X, train_y, val_y)\n",
    "    if(acc > last_acc):\n",
    "        best_neighbor = neighbor\n",
    "        max_acc = acc\n",
    "    last_acc = acc\n",
    "acc_dict[\"KNN\"] = max_acc\n",
    "print(\"Accuracy:\",max_acc)\n",
    "print(\"Best neighbors:\",best_neighbor)"
   ]
  },
  {
   "cell_type": "markdown",
   "id": "eight-guatemala",
   "metadata": {
    "papermill": {
     "duration": 0.03518,
     "end_time": "2021-06-12T22:35:55.477427",
     "exception": false,
     "start_time": "2021-06-12T22:35:55.442247",
     "status": "completed"
    },
    "tags": []
   },
   "source": [
    "## Calling random forest function with multiple candidate max depths and then choosing the max depth"
   ]
  },
  {
   "cell_type": "code",
   "execution_count": 23,
   "id": "thorough-defeat",
   "metadata": {
    "execution": {
     "iopub.execute_input": "2021-06-12T22:35:55.560900Z",
     "iopub.status.busy": "2021-06-12T22:35:55.559761Z",
     "iopub.status.idle": "2021-06-12T22:35:55.672300Z",
     "shell.execute_reply": "2021-06-12T22:35:55.671613Z",
     "shell.execute_reply.started": "2021-06-12T22:32:23.236215Z"
    },
    "papermill": {
     "duration": 0.159343,
     "end_time": "2021-06-12T22:35:55.672456",
     "exception": false,
     "start_time": "2021-06-12T22:35:55.513113",
     "status": "completed"
    },
    "tags": []
   },
   "outputs": [
    {
     "name": "stdout",
     "output_type": "stream",
     "text": [
      "Accuracy: 0.7985074626865671\n",
      "Best max depth: 300\n"
     ]
    }
   ],
   "source": [
    "candidate_max_depths = [ 2,3,4,5,6,7,8,9,10, 25, 45,50,65, 100 ,125,150,175,200, 250,300 ]\n",
    "# Write loop to find the ideal tree size from candidate_max_leaf_nodes\n",
    "best_max_depth = candidate_max_depths[0]\n",
    "last_acc = float('inf')\n",
    "max_acc = float('inf')\n",
    "for best_max_depth in candidate_max_depths:\n",
    "    acc = get_acc_score_rforest(best_max_depth, train_X, val_X, train_y, val_y)\n",
    "    if(acc > last_acc):\n",
    "        best_max_depth = best_max_depth\n",
    "        max_acc = acc\n",
    "    last_acc = acc\n",
    "acc_dict[\"Random forest\"] = max_acc\n",
    "print(\"Accuracy:\",max_acc)\n",
    "print(\"Best max depth:\",best_max_depth)"
   ]
  },
  {
   "cell_type": "markdown",
   "id": "perfect-extreme",
   "metadata": {
    "papermill": {
     "duration": 0.036803,
     "end_time": "2021-06-12T22:35:55.745438",
     "exception": false,
     "start_time": "2021-06-12T22:35:55.708635",
     "status": "completed"
    },
    "tags": []
   },
   "source": [
    "# Visualizing different classifiers' accuracies "
   ]
  },
  {
   "cell_type": "code",
   "execution_count": 24,
   "id": "grave-budapest",
   "metadata": {
    "execution": {
     "iopub.execute_input": "2021-06-12T22:35:55.827071Z",
     "iopub.status.busy": "2021-06-12T22:35:55.826239Z",
     "iopub.status.idle": "2021-06-12T22:35:56.124610Z",
     "shell.execute_reply": "2021-06-12T22:35:56.125187Z",
     "shell.execute_reply.started": "2021-06-12T22:32:23.360924Z"
    },
    "papermill": {
     "duration": 0.34381,
     "end_time": "2021-06-12T22:35:56.125384",
     "exception": false,
     "start_time": "2021-06-12T22:35:55.781574",
     "status": "completed"
    },
    "tags": []
   },
   "outputs": [
    {
     "data": {
      "text/plain": [
       "<AxesSubplot:title={'center':'Classifier Accuracy'}, xlabel='Accuracy', ylabel='Classifier'>"
      ]
     },
     "execution_count": 24,
     "metadata": {},
     "output_type": "execute_result"
    },
    {
     "data": {
      "image/png": "[encoded data removed]",
      "text/plain": [
       "<Figure size 432x288 with 1 Axes>"
      ]
     },
     "metadata": {
      "needs_background": "light"
     },
     "output_type": "display_data"
    }
   ],
   "source": [
    "import matplotlib.pyplot as plt\n",
    "import seaborn as sns\n",
    "log_cols = [\"Classifier\", \"Accuracy\"]\n",
    "log \t = pd.DataFrame(columns=log_cols)\n",
    "for clf in acc_dict:\n",
    "\tacc_dict[clf] = acc_dict[clf] / 10.0\n",
    "\tlog_entry = pd.DataFrame([[clf, acc_dict[clf]]], columns=log_cols)\n",
    "\tlog = log.append(log_entry)\n",
    "plt.xlabel('Accuracy')\n",
    "plt.title('Classifier Accuracy')\n",
    "sns.set_color_codes(\"muted\")\n",
    "sns.barplot(x='Accuracy', y='Classifier', data=log, color=\"b\")"
   ]
  },
  {
   "cell_type": "markdown",
   "id": "prompt-evaluation",
   "metadata": {
    "papermill": {
     "duration": 0.039581,
     "end_time": "2021-06-12T22:35:56.202678",
     "exception": false,
     "start_time": "2021-06-12T22:35:56.163097",
     "status": "completed"
    },
    "tags": []
   },
   "source": [
    "# Fitting the whole training data using the best classifer for this data (decision tree classifer)"
   ]
  },
  {
   "cell_type": "code",
   "execution_count": 25,
   "id": "educational-granny",
   "metadata": {
    "execution": {
     "iopub.execute_input": "2021-06-12T22:35:56.282690Z",
     "iopub.status.busy": "2021-06-12T22:35:56.281946Z",
     "iopub.status.idle": "2021-06-12T22:35:56.294954Z",
     "shell.execute_reply": "2021-06-12T22:35:56.295506Z",
     "shell.execute_reply.started": "2021-06-12T22:32:23.567883Z"
    },
    "papermill": {
     "duration": 0.055288,
     "end_time": "2021-06-12T22:35:56.295743",
     "exception": false,
     "start_time": "2021-06-12T22:35:56.240455",
     "status": "completed"
    },
    "tags": []
   },
   "outputs": [
    {
     "data": {
      "text/plain": [
       "DecisionTreeRegressor(max_leaf_nodes=45, random_state=1)"
      ]
     },
     "execution_count": 25,
     "metadata": {},
     "output_type": "execute_result"
    }
   ],
   "source": [
    "final_model = DecisionTreeRegressor(max_leaf_nodes=best_tree_size, random_state=1)\n",
    "final_model.fit(X, y)"
   ]
  },
  {
   "cell_type": "markdown",
   "id": "matched-toyota",
   "metadata": {
    "papermill": {
     "duration": 0.039121,
     "end_time": "2021-06-12T22:35:56.373873",
     "exception": false,
     "start_time": "2021-06-12T22:35:56.334752",
     "status": "completed"
    },
    "tags": []
   },
   "source": [
    "# Prediting the surviving people in the test data using the decision tree model with max_leaf_nodes=best_tree_size for prediction"
   ]
  },
  {
   "cell_type": "code",
   "execution_count": 26,
   "id": "executive-planner",
   "metadata": {
    "execution": {
     "iopub.execute_input": "2021-06-12T22:35:56.455007Z",
     "iopub.status.busy": "2021-06-12T22:35:56.454191Z",
     "iopub.status.idle": "2021-06-12T22:35:56.470625Z",
     "shell.execute_reply": "2021-06-12T22:35:56.471391Z",
     "shell.execute_reply.started": "2021-06-12T22:32:23.582534Z"
    },
    "papermill": {
     "duration": 0.058221,
     "end_time": "2021-06-12T22:35:56.471687",
     "exception": false,
     "start_time": "2021-06-12T22:35:56.413466",
     "status": "completed"
    },
    "tags": []
   },
   "outputs": [
    {
     "name": "stdout",
     "output_type": "stream",
     "text": [
      "Your submission was successfully saved!\n"
     ]
    }
   ],
   "source": [
    "val_predictions = final_model.predict(test_data[features])\n",
    "output = pd.DataFrame({'PassengerId': test_data.PassengerId, 'Survived': val_predictions.round(0)})\n",
    "output = output.astype(int)\n",
    "output.to_csv('my_submission5.csv', index=False)\n",
    "print(\"Your submission was successfully saved!\")"
   ]
  }
 ],
 "metadata": {
  "kernelspec": {
   "display_name": "Python 3",
   "language": "python",
   "name": "python3"
  },
  "language_info": {
   "codemirror_mode": {
    "name": "ipython",
    "version": 3
   },
   "file_extension": ".py",
   "mimetype": "text/x-python",
   "name": "python",
   "nbconvert_exporter": "python",
   "pygments_lexer": "ipython3",
   "version": "3.7.10"
  },
  "papermill": {
   "default_parameters": {},
   "duration": 24.951068,
   "end_time": "2021-06-12T22:35:57.623525",
   "environment_variables": {},
   "exception": null,
   "input_path": "__notebook__.ipynb",
   "output_path": "__notebook__.ipynb",
   "parameters": {},
   "start_time": "2021-06-12T22:35:32.672457",
   "version": "2.3.3"
  }
 },
 "nbformat": 4,
 "nbformat_minor": 5
}
